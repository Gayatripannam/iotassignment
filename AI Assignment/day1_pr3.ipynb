{
 "cells": [
  {
   "cell_type": "code",
   "execution_count": 18,
   "id": "71137db1-61e2-4653-967c-afc3b812bda3",
   "metadata": {},
   "outputs": [],
   "source": [
    "import numpy as np\n"
   ]
  },
  {
   "cell_type": "code",
   "execution_count": 19,
   "id": "127797a1-5eea-46b8-8e00-ef9527dc061b",
   "metadata": {},
   "outputs": [],
   "source": [
    "n1 = np.array([11,22,33,44,55,66,77,88])"
   ]
  },
  {
   "cell_type": "code",
   "execution_count": 20,
   "id": "42a0092b-556a-4833-b7a0-ad7ae0103f34",
   "metadata": {},
   "outputs": [
    {
     "name": "stdout",
     "output_type": "stream",
     "text": [
      "[11 22 33 44 55 66 77 88]\n"
     ]
    }
   ],
   "source": [
    "print(n1)"
   ]
  },
  {
   "cell_type": "code",
   "execution_count": 23,
   "id": "da86ad06-0833-44d4-b74c-a05a3f956311",
   "metadata": {},
   "outputs": [
    {
     "name": "stdout",
     "output_type": "stream",
     "text": [
      "11\n"
     ]
    }
   ],
   "source": [
    "print(n1[0])"
   ]
  },
  {
   "cell_type": "code",
   "execution_count": 22,
   "id": "0ad4fdc9-8d2e-4eef-85a6-090e09f0d2d8",
   "metadata": {},
   "outputs": [
    {
     "name": "stdout",
     "output_type": "stream",
     "text": [
      "8\n"
     ]
    }
   ],
   "source": [
    "print(len(n1))"
   ]
  },
  {
   "cell_type": "code",
   "execution_count": 25,
   "id": "63869158-47b7-4d58-8d2b-be64d1015980",
   "metadata": {},
   "outputs": [
    {
     "name": "stdout",
     "output_type": "stream",
     "text": [
      "77\n"
     ]
    }
   ],
   "source": [
    "print(n1[-2])"
   ]
  },
  {
   "cell_type": "code",
   "execution_count": 27,
   "id": "1be82c98-f527-49fa-b6cf-0dec5f1bc50b",
   "metadata": {},
   "outputs": [
    {
     "name": "stdout",
     "output_type": "stream",
     "text": [
      "[44 55]\n"
     ]
    }
   ],
   "source": [
    "print(n1[3:5])"
   ]
  },
  {
   "cell_type": "code",
   "execution_count": 28,
   "id": "f9469ebd-217c-4f6b-aade-0226b6a07227",
   "metadata": {},
   "outputs": [
    {
     "name": "stdout",
     "output_type": "stream",
     "text": [
      "NDIM = 1\n"
     ]
    }
   ],
   "source": [
    "print(f\"NDIM = {n1.ndim}\")"
   ]
  },
  {
   "cell_type": "code",
   "execution_count": 29,
   "id": "ac096b0b-da27-4213-820b-8a4ad1261b42",
   "metadata": {},
   "outputs": [
    {
     "name": "stdout",
     "output_type": "stream",
     "text": [
      "Shape = (8,)\n"
     ]
    }
   ],
   "source": [
    "print(f\"Shape = {n1.shape}\")"
   ]
  },
  {
   "cell_type": "code",
   "execution_count": null,
   "id": "3aa83355-a953-4ef2-bfa9-f530084a7b55",
   "metadata": {},
   "outputs": [],
   "source": []
  }
 ],
 "metadata": {
  "kernelspec": {
   "display_name": "Python 3 (ipykernel)",
   "language": "python",
   "name": "python3"
  },
  "language_info": {
   "codemirror_mode": {
    "name": "ipython",
    "version": 3
   },
   "file_extension": ".py",
   "mimetype": "text/x-python",
   "name": "python",
   "nbconvert_exporter": "python",
   "pygments_lexer": "ipython3",
   "version": "3.10.12"
  }

