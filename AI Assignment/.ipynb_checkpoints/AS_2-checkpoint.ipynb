{
 "cells": [
  {
   "cell_type": "code",
   "execution_count": 46,
   "id": "a0488094-b130-44ef-b944-45211cf26efe",
   "metadata": {},
   "outputs": [],
   "source": [
    "#1.Write a Pandas program to create and display a one-dimensional array-like object containing an array of data."
   ]
  },
  {
   "cell_type": "code",
   "execution_count": 47,
   "id": "4f4ac649-8cb2-4ff7-909d-3edc9bd6270f",
   "metadata": {},
   "outputs": [],
   "source": [
    "import pandas as pd"
   ]
  },
  {
   "cell_type": "code",
   "execution_count": 48,
   "id": "78886a88-0524-4fce-94f0-bd8f67672448",
   "metadata": {},
   "outputs": [
    {
     "name": "stdout",
     "output_type": "stream",
     "text": [
      "<IntegerArray>\n",
      "[90, 80, 70, 60, 50]\n",
      "Length: 5, dtype: Int64\n"
     ]
    }
   ],
   "source": [
    "arr = pd.array([90,80,70,60,50])\n",
    "print(arr)"
   ]
  },
  {
   "cell_type": "code",
   "execution_count": null,
   "id": "a68a8fe3-81be-4c5f-b4be-afaf4866b3c7",
   "metadata": {},
   "outputs": [],
   "source": []
  },
  {
   "cell_type": "code",
   "execution_count": 49,
   "id": "5c2e7c76-a66c-4a5f-af33-7d2522b4725d",
   "metadata": {},
   "outputs": [
    {
     "ename": "SyntaxError",
     "evalue": "invalid character '’' (U+2019) (141876114.py, line 1)",
     "output_type": "error",
     "traceback": [
      "\u001b[0;36m  Cell \u001b[0;32mIn[49], line 1\u001b[0;36m\u001b[0m\n\u001b[0;31m    2. Write a Pandas program to convert a Panda module Series to Python list and it’s type.\u001b[0m\n\u001b[0m                                                                                    ^\u001b[0m\n\u001b[0;31mSyntaxError\u001b[0m\u001b[0;31m:\u001b[0m invalid character '’' (U+2019)\n"
     ]
    }
   ],
   "source": [
    "2. Write a Pandas program to convert a Panda module Series to Python list and it’s type.\n"
   ]
  },
  {
   "cell_type": "code",
   "execution_count": null,
   "id": "5f199f1b-c7c9-4d28-86ef-4902ada5d33c",
   "metadata": {},
   "outputs": [],
   "source": [
    "n1= pd.Series([10, 20, 30, 40, 50])\n",
    "\n",
    "s1 = n1.tolist()\n",
    "print(\"n1:\", s1)\n",
    "print(\"Type :\", type(s1))"
   ]
  },
  {
   "cell_type": "code",
   "execution_count": null,
   "id": "b7411f6e-b61e-4657-8975-d840df70c7a5",
   "metadata": {},
   "outputs": [],
   "source": []
  },
  {
   "cell_type": "code",
   "execution_count": null,
   "id": "b5b52e9e-299a-4f42-bce6-14aa4c3bf808",
   "metadata": {},
   "outputs": [],
   "source": [
    "Write a Pandas program to add, subtract, multiple and divide two Pandas Series.\n",
    "   Sample Series: [2, 4, 6, 8, 10], [1, 3, 5, 7, 9]"
   ]
  },
  {
   "cell_type": "code",
   "execution_count": null,
   "id": "af03ebb5-5b32-4983-9258-e8c1285c666d",
   "metadata": {},
   "outputs": [],
   "source": [
    "s1 = pd.array([11,22,33,44,55,66,77])\n",
    "s2 = pd.array([10,20,30,40,50,60,70])\n",
    "print(s1+s2)\n",
    "print(s1-s2)\n",
    "print(s1*s2)\n",
    "print(s1*s2)\n",
    "print(s1/s2)\n",
    "\n"
   ]
  },
  {
   "cell_type": "code",
   "execution_count": null,
   "id": "042e1054-fa9b-44e3-9a7f-7d5b7fe9a75c",
   "metadata": {},
   "outputs": [],
   "source": []
  },
  {
   "cell_type": "code",
   "execution_count": null,
   "id": "365e3266-1650-4ea2-a40c-11b668f6818d",
   "metadata": {},
   "outputs": [],
   "source": [
    "#4. Write a Pandas program to convert a dictionary to a Pandas series."
   ]
  },
  {
   "cell_type": "code",
   "execution_count": null,
   "id": "2794ef53-5ab1-40d6-a457-573fcc0f38f8",
   "metadata": {},
   "outputs": [],
   "source": [
    "s1 ={'name':'xyz', 'id':23, 'age':25, 'address':'Pune' }"
   ]
  },
  {
   "cell_type": "code",
   "execution_count": 51,
   "id": "95281bfa-0071-4a3f-a6fd-f6ada45c1519",
   "metadata": {},
   "outputs": [
    {
     "name": "stdout",
     "output_type": "stream",
     "text": [
      "{'name': 'xyz', 'id': 23, 'age': 25, 'address': 'Pune'}\n"
     ]
    }
   ],
   "source": [
    "print(s1)"
   ]
  },
  {
   "cell_type": "code",
   "execution_count": 53,
   "id": "195e7e8f-e970-4e6e-9bf3-31c6735fc13e",
   "metadata": {},
   "outputs": [],
   "source": [
    "s3 = pd.Series(s1)"
   ]
  },
  {
   "cell_type": "code",
   "execution_count": 54,
   "id": "10ae9771-d79f-49f5-881b-26ae137cc7ab",
   "metadata": {},
   "outputs": [
    {
     "name": "stdout",
     "output_type": "stream",
     "text": [
      "name        xyz\n",
      "id           23\n",
      "age          25\n",
      "address    Pune\n",
      "dtype: object\n"
     ]
    }
   ],
   "source": [
    "print(s3)"
   ]
  },
  {
   "cell_type": "code",
   "execution_count": null,
   "id": "68704e74-58b1-4d16-915f-0a1a01748da0",
   "metadata": {},
   "outputs": [],
   "source": []
  },
  {
   "cell_type": "code",
   "execution_count": null,
   "id": "1830b8a7-6753-4050-bd0b-bfb3c1e0fa20",
   "metadata": {},
   "outputs": [],
   "source": []
  },
  {
   "cell_type": "code",
   "execution_count": null,
   "id": "aaa16a6e-5617-4e89-b5b2-5256cc929830",
   "metadata": {},
   "outputs": [],
   "source": []
  },
  {
   "cell_type": "code",
   "execution_count": null,
   "id": "2ad3665f-4b5a-4b62-b0e1-5af14a03c9d9",
   "metadata": {},
   "outputs": [],
   "source": []
  },
  {
   "cell_type": "code",
   "execution_count": null,
   "id": "59990014-6813-42a2-b778-9477dd5c16dd",
   "metadata": {},
   "outputs": [],
   "source": []
  },
  {
   "cell_type": "code",
   "execution_count": null,
   "id": "70747580-feac-47ac-8db8-b9ec82f73805",
   "metadata": {},
   "outputs": [],
   "source": []
  },
  {
   "cell_type": "code",
   "execution_count": null,
   "id": "4d374286-0a27-4741-a5fa-2a154edd6821",
   "metadata": {},
   "outputs": [],
   "source": []
  },
  {
   "cell_type": "code",
   "execution_count": null,
   "id": "2631104d-16db-44e7-a8c0-432bb25fdbb2",
   "metadata": {},
   "outputs": [],
   "source": []
  },
  {
   "cell_type": "code",
   "execution_count": null,
   "id": "f16078cd-e3ce-4052-bd06-000c87f43fcd",
   "metadata": {},
   "outputs": [],
   "source": []
  },
  {
   "cell_type": "code",
   "execution_count": null,
   "id": "352362ad-701b-4ef1-afc0-2d48f74a76be",
   "metadata": {},
   "outputs": [],
   "source": []
  }
 ],
 "metadata": {
  "kernelspec": {
   "display_name": "Python 3 (ipykernel)",
   "language": "python",
   "name": "python3"
  },
  "language_info": {
   "codemirror_mode": {
    "name": "ipython",
    "version": 3
   },
   "file_extension": ".py",
   "mimetype": "text/x-python",
   "name": "python",
   "nbconvert_exporter": "python",
   "pygments_lexer": "ipython3",
   "version": "3.10.12"
  }
 },
 "nbformat": 4,
 "nbformat_minor": 5
}
