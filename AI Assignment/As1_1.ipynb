{
 "cells": [
  {
   "cell_type": "code",
   "execution_count": 831,
   "id": "fb868939-a81c-4684-86d8-990f87301d58",
   "metadata": {},
   "outputs": [],
   "source": [
    "#1. Write a NumPy program to create an array with the values 1, 7, 13, 105    and determine the size of the memory occupied by the array."
   ]
  },
  {
   "cell_type": "code",
   "execution_count": 832,
   "id": "a34c6880-b20f-4e35-9c7f-452e04687f79",
   "metadata": {},
   "outputs": [],
   "source": [
    "import numpy as np\n",
    "def function1():\n",
    "    n1 = np.array([1,7,13,105])\n",
    "    print(f\"Size= {n1.size}\")"
   ]
  },
  {
   "cell_type": "code",
   "execution_count": 833,
   "id": "1f840a57-f20c-4158-9bbb-ad503e4f307a",
   "metadata": {},
   "outputs": [
    {
     "name": "stdout",
     "output_type": "stream",
     "text": [
      "Size= 4\n"
     ]
    }
   ],
   "source": [
    "function1()"
   ]
  },
  {
   "cell_type": "code",
   "execution_count": null,
   "id": "98dcf7a8-bc0a-482a-963d-0f6185351d1a",
   "metadata": {},
   "outputs": [],
   "source": []
  },
  {
   "cell_type": "code",
   "execution_count": 834,
   "id": "2991bf0f-b16c-4aca-b366-e1d3517851b2",
   "metadata": {},
   "outputs": [],
   "source": [
    "#2. Write a NumPy program to create an element-wise comparison (greater,    greater_equal, less and less_equal) of two given arrays."
   ]
  },
  {
   "cell_type": "code",
   "execution_count": 835,
   "id": "9abda115-c9d2-4b83-ae2a-821326eae271",
   "metadata": {},
   "outputs": [],
   "source": [
    "def function2():\n",
    "    n1= np.array([10,30,50,80,70])\n",
    "    n2= np.array([40,50,10,60,70])\n",
    "   # print(f\"arr1[0]>arr2[0] = {arr1[0]>arr2[0]}\")\n",
    "    print(np.greater(n1,n2))\n",
    "    print(np.greater_equal(n1,n2))\n",
    "    print(np.less(n1,n2))\n",
    "    print(np.less_equal(n1,n2))\n",
    "    "
   ]
  },
  {
   "cell_type": "code",
   "execution_count": 836,
   "id": "fcb10a19-e8f0-4fcb-8fe9-dd7c631e33b6",
   "metadata": {},
   "outputs": [
    {
     "name": "stdout",
     "output_type": "stream",
     "text": [
      "[False False  True  True False]\n",
      "[False False  True  True  True]\n",
      "[ True  True False False False]\n",
      "[ True  True False False  True]\n"
     ]
    }
   ],
   "source": [
    "function2()"
   ]
  },
  {
   "cell_type": "code",
   "execution_count": null,
   "id": "5a7eba1a-113d-4f13-b9be-cec83211faca",
   "metadata": {},
   "outputs": [],
   "source": []
  },
  {
   "cell_type": "code",
   "execution_count": 837,
   "id": "2eca6ec9-0e64-41f0-88f0-ce5d5cb7ffa9",
   "metadata": {},
   "outputs": [],
   "source": [
    "#3.  Write a NumPy program to create an array of 10 zeros, 10 ones, 10    fives, 10 tens, 10 twentys and 10 fiftys."
   ]
  },
  {
   "cell_type": "code",
   "execution_count": 838,
   "id": "f1c11d57-20b2-412d-acb4-4e2a3768aae3",
   "metadata": {},
   "outputs": [],
   "source": [
    "arr1= np.zeros(10)\n",
    "arr2= np.ones(10)\n",
    "arr3= (arr2*5)\n",
    "arr4= (arr2*10)\n",
    "arr5= (arr2*20)\n",
    "arr6= (arr2*50)"
   ]
  },
  {
   "cell_type": "code",
   "execution_count": 839,
   "id": "d924c4f4-6ab9-4de0-b8e6-47743e1d9289",
   "metadata": {},
   "outputs": [
    {
     "name": "stdout",
     "output_type": "stream",
     "text": [
      "[0. 0. 0. 0. 0. 0. 0. 0. 0. 0.]\n",
      "[1. 1. 1. 1. 1. 1. 1. 1. 1. 1.]\n",
      "[5. 5. 5. 5. 5. 5. 5. 5. 5. 5.]\n",
      "[10. 10. 10. 10. 10. 10. 10. 10. 10. 10.]\n",
      "[20. 20. 20. 20. 20. 20. 20. 20. 20. 20.]\n",
      "[50. 50. 50. 50. 50. 50. 50. 50. 50. 50.]\n"
     ]
    }
   ],
   "source": [
    "print(arr1)\n",
    "print(arr2)\n",
    "print(arr3)\n",
    "print(arr4)\n",
    "print(arr5)\n",
    "print(arr6)"
   ]
  },
  {
   "cell_type": "code",
   "execution_count": null,
   "id": "95feb7af-6ea8-4bd9-aa0f-5f03e6f0defe",
   "metadata": {},
   "outputs": [],
   "source": []
  },
  {
   "cell_type": "code",
   "execution_count": 840,
   "id": "65fab384-42aa-44e6-8392-6ec45b0a7bb1",
   "metadata": {},
   "outputs": [],
   "source": [
    "#Write a NumPy program to create an array of integers from 30 to 70."
   ]
  },
  {
   "cell_type": "code",
   "execution_count": 841,
   "id": "c9f907e2-1917-4a8c-a30f-72027ddb4ba1",
   "metadata": {},
   "outputs": [
    {
     "name": "stdout",
     "output_type": "stream",
     "text": [
      "[30 31 32 33 34 35 36 37 38 39 40 41 42 43 44 45 46 47 48 49 50 51 52 53\n",
      " 54 55 56 57 58 59 60 61 62 63 64 65 66 67 68 69]\n"
     ]
    }
   ],
   "source": [
    "arr1= np.arange(30,70)\n",
    "print(arr1)\n"
   ]
  },
  {
   "cell_type": "code",
   "execution_count": null,
   "id": "cad1fb32-3554-4d99-81b5-2b42d3f49da4",
   "metadata": {},
   "outputs": [],
   "source": []
  },
  {
   "cell_type": "code",
   "execution_count": 842,
   "id": "b199739a-5291-4b65-a32e-305e10cafefb",
   "metadata": {},
   "outputs": [],
   "source": [
    "#5. Write a NumPy program to create an array of integers from 50 to 95."
   ]
  },
  {
   "cell_type": "code",
   "execution_count": 843,
   "id": "c6894265-b852-4bad-929f-ddb408fafbf0",
   "metadata": {},
   "outputs": [
    {
     "name": "stdout",
     "output_type": "stream",
     "text": [
      "[50 51 52 53 54 55 56 57 58 59 60 61 62 63 64 65 66 67 68 69 70 71 72 73\n",
      " 74 75 76 77 78 79 80 81 82 83 84 85 86 87 88 89 90 91 92 93 94]\n"
     ]
    }
   ],
   "source": [
    "arr1= np.arange(50,95)\n",
    "print(arr1)"
   ]
  },
  {
   "cell_type": "code",
   "execution_count": null,
   "id": "87ac7636-1e78-41da-a070-4e2d11c75933",
   "metadata": {},
   "outputs": [],
   "source": []
  },
  {
   "cell_type": "code",
   "execution_count": 844,
   "id": "a99edcb8-a902-482d-9a1e-0fc4847cfb95",
   "metadata": {},
   "outputs": [],
   "source": [
    "#6. Write a NumPy program to create an array of all even integers from 20 to 80."
   ]
  },
  {
   "cell_type": "code",
   "execution_count": 845,
   "id": "9148169c-31ba-430f-8e32-9b0188c6ee5e",
   "metadata": {},
   "outputs": [
    {
     "name": "stdout",
     "output_type": "stream",
     "text": [
      "[20 22 24 26 28 30 32 34 36 38 40 42 44 46 48 50 52 54 56 58 60 62 64 66\n",
      " 68 70 72 74 76 78]\n"
     ]
    }
   ],
   "source": [
    "n4= np.arange(20,80,2)\n",
    "print(n4)"
   ]
  },
  {
   "cell_type": "code",
   "execution_count": null,
   "id": "594a1133-f629-4e67-aa35-9015124b135d",
   "metadata": {},
   "outputs": [],
   "source": []
  },
  {
   "cell_type": "code",
   "execution_count": 846,
   "id": "106f71bd-8e40-475c-beff-11332aaea709",
   "metadata": {},
   "outputs": [],
   "source": [
    "#7. Write a NumPy program to create an array of all odd integers from 20 to 80."
   ]
  },
  {
   "cell_type": "code",
   "execution_count": 847,
   "id": "5f2ddf3f-a941-4249-8ab0-720f5d49aa8a",
   "metadata": {},
   "outputs": [
    {
     "name": "stdout",
     "output_type": "stream",
     "text": [
      "[21 23 25 27 29 31 33 35 37 39 41 43 45 47 49 51 53 55 57 59 61 63 65 67\n",
      " 69 71 73 75 77 79]\n"
     ]
    }
   ],
   "source": [
    "n5= np.arange(21,81,2)\n",
    "print(n5)"
   ]
  },
  {
   "cell_type": "code",
   "execution_count": null,
   "id": "0fcda28b-a4a8-4404-bfd8-fcc2a029d571",
   "metadata": {},
   "outputs": [],
   "source": []
  },
  {
   "cell_type": "code",
   "execution_count": 848,
   "id": "920a6a00-8d56-4d6f-921e-94de0fe3d301",
   "metadata": {},
   "outputs": [
    {
     "name": "stdout",
     "output_type": "stream",
     "text": [
      "[15 10 36 14 20 19 34 27 16 10 29 25 39 33 27]\n"
     ]
    }
   ],
   "source": [
    "#. Write a NumPy program to generate an array of 15 random numbers from 10    to 40.\n",
    "n4 = np.random.randint(10,40,15)\n",
    "print(n4)"
   ]
  },
  {
   "cell_type": "code",
   "execution_count": null,
   "id": "ad28681f-1703-4cb6-ae31-aa32612c928d",
   "metadata": {},
   "outputs": [],
   "source": []
  },
  {
   "cell_type": "code",
   "execution_count": 849,
   "id": "3b43c93a-98c7-45cc-b678-1b37377d96dc",
   "metadata": {},
   "outputs": [],
   "source": [
    "#9. Write a NumPy program to generate an array of 10 random numbers from 30    to 50."
   ]
  },
  {
   "cell_type": "code",
   "execution_count": 850,
   "id": "84681983-97f4-40b6-bfb1-6d2fd48577fc",
   "metadata": {},
   "outputs": [
    {
     "name": "stdout",
     "output_type": "stream",
     "text": [
      "[35 38 37 35 48 32 38 42 36 42]\n"
     ]
    }
   ],
   "source": [
    "n5= np.random.randint(30,50,10)\n",
    "print(n5)"
   ]
  },
  {
   "cell_type": "code",
   "execution_count": null,
   "id": "8e424158-575b-452f-b921-e5fc2a05d5c2",
   "metadata": {},
   "outputs": [],
   "source": []
  },
  {
   "cell_type": "code",
   "execution_count": 851,
   "id": "ba095272-3fcc-4b53-a5f4-1674bc872fd2",
   "metadata": {},
   "outputs": [],
   "source": [
    "#10. Write a NumPy program to generate an array of 20 random numbers from 50    to 90."
   ]
  },
  {
   "cell_type": "code",
   "execution_count": 852,
   "id": "e4887121-86dc-452d-8c3a-ad4d7d27be50",
   "metadata": {},
   "outputs": [
    {
     "name": "stdout",
     "output_type": "stream",
     "text": [
      "[86 55 67 76 65 66 67 76 82 73 88 76 70 89 52 68 72 87 66 75]\n"
     ]
    }
   ],
   "source": [
    "n6= np.random.randint(50,90,20)\n",
    "print(n6)"
   ]
  },
  {
   "cell_type": "code",
   "execution_count": null,
   "id": "42521306-2de4-466d-8ff1-4c54781c5034",
   "metadata": {},
   "outputs": [],
   "source": []
  },
  {
   "cell_type": "code",
   "execution_count": 853,
   "id": "76aa41d6-a79e-45d5-9105-ad071d46fdfc",
   "metadata": {},
   "outputs": [
    {
     "name": "stdout",
     "output_type": "stream",
     "text": [
      "[ 21  42  63  84 105]\n",
      "[1 2 3 4 5]\n",
      "[ 110  440  990 1760 2750]\n",
      "[1.1 1.1 1.1 1.1 1.1]\n"
     ]
    }
   ],
   "source": [
    "n1= np.array([11,22,33,44,55])\n",
    "n2= np.array([10,20,30,40,50])\n",
    "print(n1+n2)\n",
    "print(n1-n2)\n",
    "print(n1*n2)\n",
    "print(n1/n2)"
   ]
  },
  {
   "cell_type": "code",
   "execution_count": null,
   "id": "c3b293c1-7b60-4264-ac92-b8731c8a9a65",
   "metadata": {},
   "outputs": [],
   "source": []
  },
  {
   "cell_type": "code",
   "execution_count": 854,
   "id": "7e8c4600-6db1-493e-a953-d6091c6cfc4c",
   "metadata": {},
   "outputs": [],
   "source": [
    "#12. Write a NumPy program to create a 3x4 matrix filled with values from 10     to 21."
   ]
  },
  {
   "cell_type": "code",
   "execution_count": 855,
   "id": "5c74e940-9b0c-410d-9aad-1e27870bf502",
   "metadata": {},
   "outputs": [
    {
     "name": "stdout",
     "output_type": "stream",
     "text": [
      "[10 11 12 13 14 15 16 17 18 19 20 21]\n"
     ]
    }
   ],
   "source": [
    "n1 = np.arange(10,22)\n",
    "print(n1)"
   ]
  },
  {
   "cell_type": "code",
   "execution_count": 856,
   "id": "163a524b-fc71-4277-8b6f-203a70cd3935",
   "metadata": {},
   "outputs": [
    {
     "name": "stdout",
     "output_type": "stream",
     "text": [
      "[[10 11 12 13]\n",
      " [14 15 16 17]\n",
      " [18 19 20 21]]\n"
     ]
    }
   ],
   "source": [
    "n1 = n1.reshape([3,4])\n",
    "print(n1)"
   ]
  },
  {
   "cell_type": "code",
   "execution_count": null,
   "id": "246b4164-9ece-492f-95e6-c3bea2911e71",
   "metadata": {},
   "outputs": [],
   "source": []
  },
  {
   "cell_type": "code",
   "execution_count": 857,
   "id": "6b818179-68c0-4437-baf5-0f03a06ffc01",
   "metadata": {},
   "outputs": [],
   "source": [
    "#13. Write a NumPy program to create a 3x3 identity matrix, i.e. the diagonal     elements are 1, the rest are 0."
   ]
  },
  {
   "cell_type": "code",
   "execution_count": 858,
   "id": "aabe6854-35ce-49fd-98b7-d542c43ed388",
   "metadata": {},
   "outputs": [
    {
     "name": "stdout",
     "output_type": "stream",
     "text": [
      "[[1 0 0]\n",
      " [0 1 0]\n",
      " [0 0 1]]\n"
     ]
    }
   ],
   "source": [
    "n1= np.diag([1, 1, 1])\n",
    "print(n1)"
   ]
  },
  {
   "cell_type": "code",
   "execution_count": null,
   "id": "8635efce-b41d-4f38-82d5-5445d64fe3ee",
   "metadata": {},
   "outputs": [],
   "source": []
  },
  {
   "cell_type": "code",
   "execution_count": 859,
   "id": "4d1d28af-4c7b-4cf3-9858-6e977eaf30ce",
   "metadata": {},
   "outputs": [],
   "source": [
    "#14. Write a NumPy program to find the number of rows and columns in a given     matrix. "
   ]
  },
  {
   "cell_type": "code",
   "execution_count": 860,
   "id": "e2afb904-bec0-43ab-b2b6-dc2cfda1c777",
   "metadata": {},
   "outputs": [
    {
     "name": "stdout",
     "output_type": "stream",
     "text": [
      "Rows: 2\n",
      "Columns: 4\n"
     ]
    }
   ],
   "source": [
    "import numpy as np\n",
    "matrix = np.array([[14, 78, 10, 15], [7, 10, 8, 4]])\n",
    " \n",
    "dimensions = matrix.shape\n",
    "rows, columns = dimensions\n",
    " \n",
    "print(\"Rows:\", rows)\n",
    "print(\"Columns:\", columns)"
   ]
  },
  {
   "cell_type": "code",
   "execution_count": null,
   "id": "493fda15-17c0-4298-ad0e-37559f8a06a0",
   "metadata": {},
   "outputs": [],
   "source": []
  },
  {
   "cell_type": "code",
   "execution_count": 861,
   "id": "f933373b-f7c0-4df1-b4b7-4c0caf60dc57",
   "metadata": {},
   "outputs": [
    {
     "ename": "SyntaxError",
     "evalue": "invalid decimal literal (800289074.py, line 1)",
     "output_type": "error",
     "traceback": [
      "\u001b[0;36m  Cell \u001b[0;32mIn[861], line 1\u001b[0;36m\u001b[0m\n\u001b[0;31m    15. Write a NumPy program to create a 5x5 zero matrix with elements on the     main diagonal equal to 1, 2, 3, 4, 5.\u001b[0m\n\u001b[0m                                          ^\u001b[0m\n\u001b[0;31mSyntaxError\u001b[0m\u001b[0;31m:\u001b[0m invalid decimal literal\n"
     ]
    }
   ],
   "source": [
    "15. Write a NumPy program to create a 5x5 zero matrix with elements on the     main diagonal equal to 1, 2, 3, 4, 5."
   ]
  },
  {
   "cell_type": "code",
   "execution_count": null,
   "id": "746461cd-6390-488a-b5ef-01a5b517c0f2",
   "metadata": {},
   "outputs": [],
   "source": [
    "import numpy as np\n",
    "\n",
    "n1= np.diag([1, 2, 3, 4, 5])\n",
    "print(x)"
   ]
  },
  {
   "cell_type": "code",
   "execution_count": null,
   "id": "c9bedc2e-b8d7-4787-b031-27b4d3aa988a",
   "metadata": {},
   "outputs": [],
   "source": []
  },
  {
   "cell_type": "code",
   "execution_count": null,
   "id": "f32c9fb3-70d9-4550-b400-811e054a5dc9",
   "metadata": {},
   "outputs": [],
   "source": [
    "#18. Write a NumPy program to convert a list of numeric values into a one-    dimensional NumPy array."
   ]
  },
  {
   "cell_type": "code",
   "execution_count": null,
   "id": "0c68d987-e890-4e92-9b48-e11d4f358fe0",
   "metadata": {},
   "outputs": [],
   "source": [
    "l1=([10,20,30,40])\n",
    "n1=np.array(l1)\n",
    "print(n1)"
   ]
  },
  {
   "cell_type": "code",
   "execution_count": null,
   "id": "d0d1c042-bd39-4799-bd51-9654ccd036ab",
   "metadata": {},
   "outputs": [],
   "source": []
  },
  {
   "cell_type": "code",
   "execution_count": null,
   "id": "2573834c-d7dc-4bd8-ac3c-d9732f1e3d85",
   "metadata": {},
   "outputs": [],
   "source": [
    "#19. Write a NumPy program to create a 3x3 matrix with values ranging from 2     to 10."
   ]
  },
  {
   "cell_type": "code",
   "execution_count": null,
   "id": "ce49c5fc-b48b-491f-9ace-3cdf3549d958",
   "metadata": {},
   "outputs": [],
   "source": [
    "n1= np.arange(2,11)\n",
    "print(n1)"
   ]
  },
  {
   "cell_type": "code",
   "execution_count": null,
   "id": "6b48e60f-dd86-4376-901d-b96d4501ac37",
   "metadata": {},
   "outputs": [],
   "source": [
    "n1=n1.reshape(3,3)\n",
    "print(n1)"
   ]
  },
  {
   "cell_type": "code",
   "execution_count": null,
   "id": "004dfd4f-324a-4afa-ac47-5d66613b6508",
   "metadata": {},
   "outputs": [],
   "source": []
  },
  {
   "cell_type": "code",
   "execution_count": null,
   "id": "1c9d2249-7dba-4113-b6d5-235cf4637ecb",
   "metadata": {},
   "outputs": [],
   "source": [
    "#20. Write a NumPy program to create an array with values ranging from 12 to 38."
   ]
  },
  {
   "cell_type": "code",
   "execution_count": null,
   "id": "79fc1958-1766-472f-af38-be9bcd54a29e",
   "metadata": {},
   "outputs": [],
   "source": [
    "    n1=np.arange(12,38)\n",
    "    print(n1)"
   ]
  },
  {
   "cell_type": "code",
   "execution_count": null,
   "id": "1433117d-12dc-4481-9cb0-273f6f243c2c",
   "metadata": {},
   "outputs": [],
   "source": []
  },
  {
   "cell_type": "code",
   "execution_count": null,
   "id": "e7d32f4a-8978-4c98-87e5-67fb7c738200",
   "metadata": {},
   "outputs": [],
   "source": [
    "#21. Write a NumPy program to reverse an array (the first element becomes the last)."
   ]
  },
  {
   "cell_type": "code",
   "execution_count": null,
   "id": "ea62d865-2cca-4f28-b85c-98aaeec3d78f",
   "metadata": {},
   "outputs": [],
   "source": [
    "n1=([10,20,30,40,50,60,70])\n",
    "n1= np.flip(n1)"
   ]
  },
  {
   "cell_type": "code",
   "execution_count": null,
   "id": "4368ce3c-2337-4ff4-8370-45381cfcb936",
   "metadata": {},
   "outputs": [],
   "source": [
    "print(n1)"
   ]
  },
  {
   "cell_type": "code",
   "execution_count": null,
   "id": "f7f2f8c1-768c-4854-b7f3-9d70a8a9bf53",
   "metadata": {},
   "outputs": [],
   "source": []
  },
  {
   "cell_type": "code",
   "execution_count": null,
   "id": "3398e124-47f2-478f-850a-06201f58a829",
   "metadata": {},
   "outputs": [],
   "source": [
    "#22. Write a NumPy program to convert an data type into to a floating type."
   ]
  },
  {
   "cell_type": "code",
   "execution_count": null,
   "id": "1a333e3e-b3e2-4a76-83c5-fdcf65d102d3",
   "metadata": {},
   "outputs": [],
   "source": [
    "n4= np.array([1.1,2.3,4.4,5.5],dtype=np.float16)"
   ]
  },
  {
   "cell_type": "code",
   "execution_count": null,
   "id": "057fbc62-0452-4b47-ae6e-16e256a8f1a1",
   "metadata": {},
   "outputs": [],
   "source": [
    "print(f\"Dtype = {n4.dtype}\")"
   ]
  },
  {
   "cell_type": "code",
   "execution_count": null,
   "id": "ad2d46e6-4dda-4497-8fc6-fa604abcd8ef",
   "metadata": {},
   "outputs": [],
   "source": []
  },
  {
   "cell_type": "code",
   "execution_count": null,
   "id": "400a2a6e-9f6d-454c-ad15-93e5397c3b93",
   "metadata": {},
   "outputs": [],
   "source": [
    " #23 Write a NumPy program to convert a list array."
   ]
  },
  {
   "cell_type": "code",
   "execution_count": null,
   "id": "73f01092-fa1a-4fb9-9f54-49fb38841d0f",
   "metadata": {},
   "outputs": [],
   "source": [
    "l1 = [11,22,23,24,56,85]\n",
    "print(l1)\n",
    "print(f\"Type = {type(l1)}\")\n",
    "arr = np.array(l1)\n",
    "print(arr)\n",
    "print(f\"Type = {type(arr)}\")"
   ]
  },
  {
   "cell_type": "code",
   "execution_count": null,
   "id": "89194015-720b-4acb-ae76-aa225f248532",
   "metadata": {},
   "outputs": [],
   "source": []
  },
  {
   "cell_type": "code",
   "execution_count": 863,
   "id": "11ec35be-bbf6-442a-bf99-5a625fde83c9",
   "metadata": {},
   "outputs": [],
   "source": [
    "#24. Write a NumPy program to get the element-wise remainder of an array of division."
   ]
  },
  {
   "cell_type": "code",
   "execution_count": 871,
   "id": "a87bd4e2-c351-466c-b28f-42c6520386a7",
   "metadata": {},
   "outputs": [
    {
     "name": "stdout",
     "output_type": "stream",
     "text": [
      "arr :  [10 25 44 48 50]\n",
      "remainder:  [0 0 4 3 0]\n"
     ]
    }
   ],
   "source": [
    "arr = np.array([10, 25, 44, 48, 50])\n",
    "divisor = 5\n",
    "\n",
    "remainder = np.remainder(arr, divisor)\n",
    "\n",
    "print(\"arr : \",arr)\n",
    "print(\"remainder: \", remainder)"
   ]
  },
  {
   "cell_type": "code",
   "execution_count": null,
   "id": "25f4e128-df9b-41f3-9694-1a2eb05c3d97",
   "metadata": {},
   "outputs": [],
   "source": []
  },
  {
   "cell_type": "code",
   "execution_count": null,
   "id": "5aa3024d-9eb9-481b-994a-acc7c0513b52",
   "metadata": {},
   "outputs": [],
   "source": [
    "25. Write a NumPy program to get the element-wise remainder of an array of numbers from 20 to 50 which are divisible by 3."
   ]
  },
  {
   "cell_type": "code",
   "execution_count": 872,
   "id": "daa2597e-d1d1-4440-b1ef-1153e5df6fc0",
   "metadata": {},
   "outputs": [
    {
     "name": "stdout",
     "output_type": "stream",
     "text": [
      "[20 21 22 23 24 25 26 27 28 29 30 31 32 33 34 35 36 37 38 39 40 41 42 43\n",
      " 44 45 46 47 48 49 50]\n",
      "Numbers divisible by 3: [21 24 27 30 33 36 39 42 45 48]\n",
      "Element-wise remainder from 20: [ 1  4  7 10 13 16 19  2  5  8]\n"
     ]
    }
   ],
   "source": [
    "arr = np.arange(20, 51)\n",
    "\n",
    "divisible_by_3 = arr[arr % 3 == 0]\n",
    "remainder = divisible_by_3 % 20\n",
    "\n",
    "print(arr)\n",
    "print(\"Numbers divisible by 3:\", divisible_by_3)\n",
    "print(\"Element-wise remainder from 20:\", remainder)"
   ]
  },
  {
   "cell_type": "code",
   "execution_count": null,
   "id": "1842ff40-8757-4560-a983-d61549d9afa0",
   "metadata": {},
   "outputs": [],
   "source": []
  },
  {
   "cell_type": "code",
   "execution_count": null,
   "id": "62743525-b5ad-4c85-8658-3e081d735a3a",
   "metadata": {},
   "outputs": [],
   "source": []
  },
  {
   "cell_type": "code",
   "execution_count": null,
   "id": "69fe34de-dd33-4996-8d33-25918ca175a2",
   "metadata": {},
   "outputs": [],
   "source": []
  },
  {
   "cell_type": "code",
   "execution_count": null,
   "id": "d1667b00-246e-4476-aeee-5a8139a0fdc8",
   "metadata": {},
   "outputs": [],
   "source": []
  },
  {
   "cell_type": "code",
   "execution_count": null,
   "id": "e4ed14b8-0226-4172-a2a5-62ec6cd970b4",
   "metadata": {},
   "outputs": [],
   "source": []
  }
 ],
 "metadata": {
  "kernelspec": {
   "display_name": "Python 3 (ipykernel)",
   "language": "python",
   "name": "python3"
  },
  "language_info": {
   "codemirror_mode": {
    "name": "ipython",
    "version": 3
   },
   "file_extension": ".py",
   "mimetype": "text/x-python",
   "name": "python",
   "nbconvert_exporter": "python",
   "pygments_lexer": "ipython3",
   "version": "3.10.12"
  }
 },
 "nbformat": 4,
 "nbformat_minor": 5
}
