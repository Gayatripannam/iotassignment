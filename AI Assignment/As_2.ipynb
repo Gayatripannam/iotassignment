{
 "cells": [
  {
   "cell_type": "code",
   "execution_count": 106,
   "id": "d945233c-bee3-4ae1-b16f-0e6060e811ef",
   "metadata": {},
   "outputs": [],
   "source": [
    "# 1. Write a Pandas program to create and display a one-dimensional array-like object containing an array of data.\n"
   ]
  },
  {
   "cell_type": "code",
   "execution_count": 107,
   "id": "c65dcf6c-9dc1-4c81-8414-aad3653ee908",
   "metadata": {},
   "outputs": [],
   "source": [
    "import numpy as np\n",
    "import pandas as pd"
   ]
  },
  {
   "cell_type": "code",
   "execution_count": 108,
   "id": "4e5388bd-f9ea-4d91-a17e-8b32e059136b",
   "metadata": {},
   "outputs": [
    {
     "name": "stdout",
     "output_type": "stream",
     "text": [
      "0     2\n",
      "1     4\n",
      "2     6\n",
      "3     8\n",
      "4    10\n",
      "dtype: int64\n"
     ]
    }
   ],
   "source": [
    "n1 = pd.Series([2, 4, 6, 8, 10])\n",
    "print(n1)"
   ]
  },
  {
   "cell_type": "code",
   "execution_count": null,
   "id": "8deb4a18-666e-4d5d-8294-bc3b11a0d52a",
   "metadata": {},
   "outputs": [],
   "source": []
  },
  {
   "cell_type": "code",
   "execution_count": 109,
   "id": "713f66e1-5a1b-4b9e-ad46-a05fe33217b9",
   "metadata": {},
   "outputs": [],
   "source": [
    "# 2. Write a Pandas program to convert a Panda module Series to Python list and it’s type."
   ]
  },
  {
   "cell_type": "code",
   "execution_count": 110,
   "id": "80d6ae18-fdc3-4489-8c26-666b2dd0f0eb",
   "metadata": {},
   "outputs": [],
   "source": [
    "def function1():\n",
    "    l1 = [10,20,30,40,50]\n",
    "    print(f\"L1 = {l1} Type = {type(l1)}\")\n",
    "    \n",
    "    n_arr = np.array([11,22,33,44])\n",
    "    print(f\"N_ARR = {n_arr} Type = {type(n_arr)}\")\n",
    "    \n",
    "    s_series  = pd.Series([90,80,70,60,50])\n",
    "    print(f\"S_Series = {s_series} Type ={type(s_series)}\")\n",
    "    \n",
    "    "
   ]
  },
  {
   "cell_type": "code",
   "execution_count": 111,
   "id": "d3b00e47-5f29-41ca-b49b-54c9679c2bb0",
   "metadata": {},
   "outputs": [
    {
     "name": "stdout",
     "output_type": "stream",
     "text": [
      "L1 = [10, 20, 30, 40, 50] Type = <class 'list'>\n",
      "N_ARR = [11 22 33 44] Type = <class 'numpy.ndarray'>\n",
      "S_Series = 0    90\n",
      "1    80\n",
      "2    70\n",
      "3    60\n",
      "4    50\n",
      "dtype: int64 Type =<class 'pandas.core.series.Series'>\n"
     ]
    }
   ],
   "source": [
    "function1()"
   ]
  },
  {
   "cell_type": "code",
   "execution_count": null,
   "id": "c44c3985-7120-4a48-a300-c61e11ac1b21",
   "metadata": {},
   "outputs": [],
   "source": []
  },
  {
   "cell_type": "code",
   "execution_count": 112,
   "id": "a2233b31-33c5-4bf9-aae2-5fc554e53644",
   "metadata": {},
   "outputs": [],
   "source": [
    "# 3. Write a Pandas program to add, subtract, multiple and divide two Pandas Series.\n",
    " #  Sample Series: [2, 4, 6, 8, 10], [1, 3, 5, 7, 9]\n"
   ]
  },
  {
   "cell_type": "code",
   "execution_count": 113,
   "id": "d6b0566a-5664-4cb7-bf9f-d3b27c320555",
   "metadata": {},
   "outputs": [],
   "source": [
    "#l1 = [2, 4, 6, 8, 10]\n",
    "#l2 = [1, 3, 5, 7, 9]\n",
    "#n1 = l1 + l2\n",
    "#print(n1)\n",
    "#n2 = l1 - l2\n",
    "#print(n1)\n",
    "#n3 = l1 * l2\n",
    "#print(n1)\n",
    "#n3 = l1 / l2\n",
    "#print(n1)"
   ]
  },
  {
   "cell_type": "code",
   "execution_count": null,
   "id": "26ad0d4e-ae60-49fd-966e-c11f8d81cc1a",
   "metadata": {},
   "outputs": [],
   "source": []
  },
  {
   "cell_type": "code",
   "execution_count": 114,
   "id": "e179893a-8d5d-46ba-9de5-93f36ae53f5d",
   "metadata": {},
   "outputs": [],
   "source": [
    "# 4. Write a Pandas program to convert a dictionary to a Pandas series.\n"
   ]
  },
  {
   "cell_type": "code",
   "execution_count": 115,
   "id": "3ed61463-a524-4a14-8a37-ede815db2575",
   "metadata": {},
   "outputs": [
    {
     "name": "stdout",
     "output_type": "stream",
     "text": [
      "{'a': 100, 'b': 200, 'c': 300, 'd': 400, 'e': 800}\n",
      "a    100\n",
      "b    200\n",
      "c    300\n",
      "d    400\n",
      "e    800\n",
      "dtype: int64\n"
     ]
    }
   ],
   "source": [
    "s1 = {'a': 100, 'b': 200, 'c':300, 'd':400, 'e':800}\n",
    "print(s1)\n",
    "pd_series = pd.Series(s1)\n",
    "print(pd_series)"
   ]
  },
  {
   "cell_type": "code",
   "execution_count": null,
   "id": "5b079aa8-1a97-49f4-8a8c-313bbede084b",
   "metadata": {},
   "outputs": [],
   "source": []
  },
  {
   "cell_type": "code",
   "execution_count": 116,
   "id": "43b21a1a-0b6a-49da-9aa2-fc309bfc59d5",
   "metadata": {},
   "outputs": [],
   "source": [
    "# 5. Write a Pandas program to convert a NumPy array to a Pandas series.\n"
   ]
  },
  {
   "cell_type": "code",
   "execution_count": 117,
   "id": "89aae8c7-dc93-4594-aef3-06bb5f05b02a",
   "metadata": {},
   "outputs": [
    {
     "name": "stdout",
     "output_type": "stream",
     "text": [
      "[10 20 30 40 50]\n",
      "0    10\n",
      "1    20\n",
      "2    30\n",
      "3    40\n",
      "4    50\n",
      "dtype: int64\n"
     ]
    }
   ],
   "source": [
    "n1 = np.array([10, 20, 30, 40, 50])\n",
    "print(n1)\n",
    "pd_series = pd.Series(n1)\n",
    "print(pd_series)"
   ]
  },
  {
   "cell_type": "code",
   "execution_count": null,
   "id": "d62b8281-55c4-4b93-b60d-b40778e7102a",
   "metadata": {},
   "outputs": [],
   "source": []
  },
  {
   "cell_type": "code",
   "execution_count": 118,
   "id": "97608e96-fd7b-4230-a8d8-3f01a5bf9761",
   "metadata": {},
   "outputs": [],
   "source": [
    "# 6. Write a Pandas program to change the data type of given a column or a Series.\n"
   ]
  },
  {
   "cell_type": "code",
   "execution_count": 119,
   "id": "dd45dc10-245c-4d4f-b8ed-9526517dfe70",
   "metadata": {},
   "outputs": [],
   "source": [
    "def function1():\n",
    "    students = pd.Series([\"s1\",\"s2\",\"s3\",\"s4\"])\n",
    "    print(students)"
   ]
  },
  {
   "cell_type": "code",
   "execution_count": 120,
   "id": "3518b326-cb46-4b30-b097-c388a899f8d1",
   "metadata": {},
   "outputs": [
    {
     "name": "stdout",
     "output_type": "stream",
     "text": [
      "0    s1\n",
      "1    s2\n",
      "2    s3\n",
      "3    s4\n",
      "dtype: object\n"
     ]
    }
   ],
   "source": [
    "function1()"
   ]
  },
  {
   "cell_type": "code",
   "execution_count": null,
   "id": "f9a6a333-66c1-4b4d-aa75-91ff5d0ff7c3",
   "metadata": {},
   "outputs": [],
   "source": []
  },
  {
   "cell_type": "code",
   "execution_count": 121,
   "id": "0e1ecb4a-c495-45e7-ac1d-0671846ad755",
   "metadata": {},
   "outputs": [],
   "source": [
    "# 7. Write a Pandas program to convert a given Series to an array.\n"
   ]
  },
  {
   "cell_type": "code",
   "execution_count": 122,
   "id": "87a86796-f8f5-4b28-aa95-3764e5c41263",
   "metadata": {},
   "outputs": [
    {
     "name": "stdout",
     "output_type": "stream",
     "text": [
      "0    100\n",
      "1    200\n",
      "2    300\n",
      "3    400\n",
      "4    500\n",
      "dtype: object\n",
      "['100' '200' '300' '400' '500']\n"
     ]
    }
   ],
   "source": [
    "s1 = pd.Series(['100', '200', '300', '400','500'])\n",
    "print(s1)\n",
    "n1 = s1.values\n",
    "print(n1)\n"
   ]
  },
  {
   "cell_type": "code",
   "execution_count": null,
   "id": "0927578c-e828-45a9-bee7-7385b73dce14",
   "metadata": {},
   "outputs": [],
   "source": []
  },
  {
   "cell_type": "code",
   "execution_count": 123,
   "id": "df398d93-48b6-431e-81a8-fcd4cca002c7",
   "metadata": {},
   "outputs": [],
   "source": [
    "# 8. Write a Pandas program to create a dataframe from a dictionary and display it."
   ]
  },
  {
   "cell_type": "code",
   "execution_count": 124,
   "id": "ca9bac82-dcb6-4898-ab2e-3cd287123c5e",
   "metadata": {},
   "outputs": [],
   "source": [
    "def function1():\n",
    "    p1 = ({\"name\":\"P1\",\"age\":25,\"id\":1234})\n",
    "    p2 = ({\"name\":\"P2\",\"age\":35,\"id\":456})\n",
    "    p3 = ({\"name\":\"P3\",\"age\":20,\"id\":789})\n",
    "    \n",
    "    s1 = pd.Series(p1)\n",
    "    s2 = pd.Series(p2)\n",
    "    s3 = pd.Series(p3)\n",
    "    \n",
    "    df = pd.DataFrame([s1,s2,s3])\n",
    "\n",
    "    print(s1)\n",
    "    print(s2)\n",
    "    print(s3)\n",
    "    print(df)\n",
    "    "
   ]
  },
  {
   "cell_type": "code",
   "execution_count": 125,
   "id": "f238d43e-dd14-4ceb-a5c2-d90e8c4586c2",
   "metadata": {},
   "outputs": [
    {
     "name": "stdout",
     "output_type": "stream",
     "text": [
      "name      P1\n",
      "age       25\n",
      "id      1234\n",
      "dtype: object\n",
      "name     P2\n",
      "age      35\n",
      "id      456\n",
      "dtype: object\n",
      "name     P3\n",
      "age      20\n",
      "id      789\n",
      "dtype: object\n",
      "  name  age    id\n",
      "0   P1   25  1234\n",
      "1   P2   35   456\n",
      "2   P3   20   789\n"
     ]
    }
   ],
   "source": [
    "function1()"
   ]
  },
  {
   "cell_type": "code",
   "execution_count": null,
   "id": "434c41ee-c899-4fd8-af1a-3b6a3aeda38b",
   "metadata": {},
   "outputs": [],
   "source": []
  },
  {
   "cell_type": "code",
   "execution_count": null,
   "id": "7b6693f2-ffa1-4265-a1b0-154559c54e39",
   "metadata": {},
   "outputs": [],
   "source": [
    "# 9. i) Create a list of empids and names (10 employees).\n",
    "  # ii) Convert list into Series.\n",
    "   #iii) Print type of Series.\n",
    "   #iv) Convert Series into DataFrame.\n",
    "   #v) a) Display all records.\n",
    "    #  b) Display first five records.\n",
    "     # c) Display last five records.\n",
    "      #d) Display first two and last two records.\n",
    "      #e) Display name of 5th employee.\n",
    "      #f) Display record of 4th employee.\n",
    "   #vi) Save the record in csv file (MyRecord.csv)\n"
   ]
  }
 ],
 "metadata": {
  "kernelspec": {
   "display_name": "Python 3 (ipykernel)",
   "language": "python",
   "name": "python3"
  },
  "language_info": {
   "codemirror_mode": {
    "name": "ipython",
    "version": 3
   },
   "file_extension": ".py",
   "mimetype": "text/x-python",
   "name": "python",
   "nbconvert_exporter": "python",
   "pygments_lexer": "ipython3",
   "version": "3.10.12"
  }
 },
 "nbformat": 4,
 "nbformat_minor": 5
}
