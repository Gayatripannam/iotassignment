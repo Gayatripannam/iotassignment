{
 "cells": [
  {
   "cell_type": "code",
   "execution_count": 73,
   "id": "a1ea04f2-4ab8-496d-8e38-6aee1d59be3c",
   "metadata": {},
   "outputs": [],
   "source": [
    "\n",
    "def function1():\n",
    "    l1 = [10,20,30,40,50]\n",
    "    print(l1)\n",
    "    print(f\"Type = {type(l1)}\")\n",
    "    print(f\"l1[0] Type = {type(l1[0])}\")\n"
   ]
  },
  {
   "cell_type": "code",
   "execution_count": null,
   "id": "e3a0f62b-e2f4-44eb-8240-8f90617557a0",
   "metadata": {},
   "outputs": [],
   "source": []
  },
  {
   "cell_type": "code",
   "execution_count": null,
   "id": "01f3e3ed-d600-4027-a65d-33571ea44006",
   "metadata": {},
   "outputs": [],
   "source": []
  },
  {
   "cell_type": "code",
   "execution_count": null,
   "id": "5d5ec652-22cb-4915-a5e7-76e371c0219d",
   "metadata": {},
   "outputs": [],
   "source": []
  },
  {
   "cell_type": "code",
   "execution_count": 74,
   "id": "08b7a3c4-a502-4b4c-b633-4c7eb0447fc8",
   "metadata": {},
   "outputs": [
    {
     "name": "stdout",
     "output_type": "stream",
     "text": [
      "[10, 20, 30, 40, 50]\n",
      "Type = <class 'list'>\n",
      "l1[0] Type = <class 'int'>\n"
     ]
    }
   ],
   "source": [
    "function1()"
   ]
  },
  {
   "cell_type": "code",
   "execution_count": 75,
   "id": "b9326f45-0bba-484f-afe7-99db310d98c4",
   "metadata": {},
   "outputs": [],
   "source": [
    "import numpy as np"
   ]
  },
  {
   "cell_type": "code",
   "execution_count": 76,
   "id": "eac04603-b4c4-4c4b-96d8-ab7c21d68769",
   "metadata": {},
   "outputs": [],
   "source": [
    "def function3():\n",
    "    arr = np.array([10,20,30,40,50,60])\n",
    "    print(arr)\n",
    "    print(f\"Type= {type(arr)}\")\n",
    "    print(f\"Dtype= {arr.dtype}\")\n",
    "    print(f\"Itemsize={arr.itemsize}\")\n",
    "    print(f\"NDIM={arr.ndim}\")\n",
    "    print(f\"NBYTES={arr.nbytes}\")\n"
   ]
  },
  {
   "cell_type": "code",
   "execution_count": 77,
   "id": "1e9538b3-821c-4765-8d62-d6e051ce27d9",
   "metadata": {},
   "outputs": [
    {
     "name": "stdout",
     "output_type": "stream",
     "text": [
      "[10 20 30 40 50 60]\n",
      "Type= <class 'numpy.ndarray'>\n",
      "Dtype= int64\n",
      "Itemsize=8\n",
      "NDIM=1\n",
      "NBYTES=48\n"
     ]
    }
   ],
   "source": [
    "function3()"
   ]
  },
  {
   "cell_type": "code",
   "execution_count": 78,
   "id": "b5594405-5e9d-4c4d-bdf8-5bfaa28fb9b7",
   "metadata": {},
   "outputs": [],
   "source": [
    "def function2():\n",
    "    n_arr= np.array([10,20,30,40,50])\n",
    "    print(f\"type= {type(n_arr)}\")"
   ]
  },
  {
   "cell_type": "code",
   "execution_count": 79,
   "id": "66b9dbb8-7c4b-4781-a8b6-8e7b6fb2588d",
   "metadata": {},
   "outputs": [
    {
     "name": "stdout",
     "output_type": "stream",
     "text": [
      "type= <class 'numpy.ndarray'>\n"
     ]
    }
   ],
   "source": [
    "function2()"
   ]
  },
  {
   "cell_type": "code",
   "execution_count": 80,
   "id": "049c1ff2-bff0-48e5-97d5-1bce336c6862",
   "metadata": {},
   "outputs": [],
   "source": [
    "def printProperties(arr):\n",
    "    print(arr)\n",
    "    print(f\"Type = {type(arr)}\")\n",
    "    print(f\"Dtype = {arr.dtype}\")\n",
    "    print(f\"Item Size = {arr.itemsize}\")\n",
    "    print(f\"Size = {arr.size}\")\n",
    "    print(f\"NDIM = {arr.ndim}\")\n",
    "    print(f\"NBYTES = {arr.nbytes}\")"
   ]
  },
  {
   "cell_type": "code",
   "execution_count": 81,
   "id": "983b8d86-7ed2-4f26-979e-bbab47bb53a7",
   "metadata": {},
   "outputs": [
    {
     "name": "stdout",
     "output_type": "stream",
     "text": [
      "[10 20 30 40 50 60]\n",
      "Type = <class 'numpy.ndarray'>\n",
      "Dtype = int64\n",
      "Item Size = 8\n",
      "Size = 6\n",
      "NDIM = 1\n",
      "NBYTES = 48\n"
     ]
    }
   ],
   "source": [
    "n1= np.array([10,20,30,40,50,60])\n",
    "printProperties(n1)"
   ]
  },
  {
   "cell_type": "code",
   "execution_count": 86,
   "id": "7f75dde1-e6ed-4833-96f0-3553bb105a80",
   "metadata": {},
   "outputs": [
    {
     "name": "stdout",
     "output_type": "stream",
     "text": [
      "[50 60 70]\n",
      "Type = <class 'numpy.ndarray'>\n",
      "Dtype = int8\n",
      "Item Size = 1\n",
      "Size = 3\n",
      "NDIM = 1\n",
      "NBYTES = 3\n"
     ]
    }
   ],
   "source": [
    "n2 = np.array([50,60,70],dtype=np.int8)\n",
    "printProperties(n2)"
   ]
  },
  {
   "cell_type": "code",
   "execution_count": 87,
   "id": "1d808114-ec79-4cef-8840-95c6eb8fa74a",
   "metadata": {},
   "outputs": [
    {
     "name": "stdout",
     "output_type": "stream",
     "text": [
      "[ 80  90 100 110]\n",
      "Type = <class 'numpy.ndarray'>\n",
      "Dtype = int64\n",
      "Item Size = 8\n",
      "Size = 4\n",
      "NDIM = 1\n",
      "NBYTES = 32\n"
     ]
    }
   ],
   "source": [
    "n3= np.array([80,90,100,110],dtype= np.int64)\n",
    "printProperties(n3)"
   ]
  },
  {
   "cell_type": "code",
   "execution_count": 88,
   "id": "9d14f766-ba5f-47df-b8c2-a51ecbcd58d9",
   "metadata": {},
   "outputs": [
    {
     "name": "stdout",
     "output_type": "stream",
     "text": [
      "[1.1 2.3 4.4 5.5]\n",
      "Type = <class 'numpy.ndarray'>\n",
      "Dtype = float16\n",
      "Item Size = 2\n",
      "Size = 4\n",
      "NDIM = 1\n",
      "NBYTES = 8\n"
     ]
    }
   ],
   "source": [
    "n4= np.array([1.1,2.3,4.4,5.5],dtype=np.float16)\n",
    "printProperties(n4)\n"
   ]
  },
  {
   "cell_type": "code",
   "execution_count": 89,
   "id": "e744bf56-59d9-475b-8d30-b0c5165006f2",
   "metadata": {},
   "outputs": [
    {
     "name": "stdout",
     "output_type": "stream",
     "text": [
      "['C' 'C++' 'Python' 'Java']\n",
      "Type = <class 'numpy.ndarray'>\n",
      "Dtype = <U6\n",
      "Item Size = 24\n",
      "Size = 4\n",
      "NDIM = 1\n",
      "NBYTES = 96\n"
     ]
    }
   ],
   "source": [
    "n5 = np.array([\"C\",\"C++\",\"Python\",\"Java\"])\n",
    "printProperties(n5)"
   ]
  },
  {
   "cell_type": "code",
   "execution_count": null,
   "id": "47583872-f8e5-426e-b827-055a93f46a33",
   "metadata": {},
   "outputs": [],
   "source": []
  }
 ],
 "metadata": {
  "kernelspec": {
   "display_name": "Python 3 (ipykernel)",
   "language": "python",
   "name": "python3"
  },
  "language_info": {
   "codemirror_mode": {
    "name": "ipython",
    "version": 3
   },
   "file_extension": ".py",
   "mimetype": "text/x-python",
   "name": "python",
   "nbconvert_exporter": "python",
   "pygments_lexer": "ipython3",
   "version": "3.10.12"
  }
 },
 "nbformat": 4,
 "nbformat_minor": 5
}
